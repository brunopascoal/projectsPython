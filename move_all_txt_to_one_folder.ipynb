{
 "cells": [
  {
   "cell_type": "code",
   "execution_count": null,
   "id": "811b5361",
   "metadata": {},
   "outputs": [],
   "source": [
    "import os\n",
    "import shutil\n",
    "\n",
    "# Define o caminho da pasta principal e o caminho da pasta destino\n",
    "pasta_principal = '/caminho/para/sua/pasta/principal'\n",
    "pasta_destino = '/caminho/para/sua/pasta/destino'\n",
    "\n",
    "# Cria a pasta destino se ela não existir\n",
    "if not os.path.exists(pasta_destino):\n",
    "    os.makedirs(pasta_destino)\n",
    "\n",
    "# Percorre todas as pastas dentro da pasta principal\n",
    "for pasta in os.listdir(pasta_principal):\n",
    "    caminho_pasta = os.path.join(pasta_principal, pasta)\n",
    "    \n",
    "    # Verifica se é realmente uma pasta\n",
    "    if os.path.isdir(caminho_pasta):\n",
    "        # Percorre todos os arquivos dentro da pasta\n",
    "        for arquivo in os.listdir(caminho_pasta):\n",
    "            if arquivo.endswith('.txt'):\n",
    "                caminho_arquivo = os.path.join(caminho_pasta, arquivo)\n",
    "                \n",
    "                # Cria um novo nome para o arquivo, incluindo o nome da pasta de origem\n",
    "                novo_nome_arquivo = f\"{pasta}_{arquivo}\"\n",
    "                caminho_destino_arquivo = os.path.join(pasta_destino, novo_nome_arquivo)\n",
    "                \n",
    "                # Copia o arquivo para a pasta destino com o novo nome\n",
    "                shutil.copy2(caminho_arquivo, caminho_destino_arquivo)\n",
    "\n",
    "print(\"Arquivos copiados com sucesso.\")\n"
   ]
  }
 ],
 "metadata": {
  "kernelspec": {
   "display_name": "Python 3",
   "language": "python",
   "name": "python3"
  },
  "language_info": {
   "codemirror_mode": {
    "name": "ipython",
    "version": 3
   },
   "file_extension": ".py",
   "mimetype": "text/x-python",
   "name": "python",
   "nbconvert_exporter": "python",
   "pygments_lexer": "ipython3",
   "version": "3.8.8"
  }
 },
 "nbformat": 4,
 "nbformat_minor": 5
}
