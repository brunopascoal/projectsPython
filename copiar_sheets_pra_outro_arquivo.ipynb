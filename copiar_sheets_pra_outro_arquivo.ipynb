{
 "cells": [
  {
   "cell_type": "code",
   "execution_count": 5,
   "id": "c46dad5c",
   "metadata": {},
   "outputs": [],
   "source": [
    "from openpyxl import load_workbook\n",
    "\n",
    "def copy_sheet(source_wb_path, target_wb_path):\n",
    "    source_wb = load_workbook(source_wb_path)\n",
    "    target_wb = load_workbook(target_wb_path)\n",
    "    \n",
    "    for sheet_name in source_wb.sheetnames:\n",
    "        source_sheet = source_wb[sheet_name]\n",
    "        if sheet_name in target_wb.sheetnames:\n",
    "            target_sheet = target_wb.create_sheet(f\"{sheet_name}\")\n",
    "        else:\n",
    "            target_sheet = target_wb.create_sheet(sheet_name)\n",
    "        \n",
    "        for row in source_sheet.iter_rows():\n",
    "            for cell in row:\n",
    "                new_cell = target_sheet.cell(row=cell.row, column=cell.column, value=cell.value)\n",
    "                # Aqui você pode adicionar a lógica para copiar estilos, se necessário\n",
    "                \n",
    "    target_wb.save(target_wb_path)\n",
    "\n",
    "# Caminhos dos arquivos\n",
    "source_file_path = r\"C:\\Users\\bpascoal\\Documents\\Meus documentos do IDEA\\Projetos IDEA\\UVR - Operadoras\\Arquivos fonte.ILB\\Balancetes 12.2022 a 10.2023\\Radioterapia\\01 a 04 - Radioterapia.xlsx\"\n",
    "target_file_path = r\"C:\\Users\\bpascoal\\Documents\\Meus documentos do IDEA\\Projetos IDEA\\UVR - Operadoras\\Arquivos fonte.ILB\\Balancetes 12.2022 a 10.2023\\Radioterapia\\05 a 10 - Radioterapia.xlsx\"\n",
    "\n",
    "copy_sheet(source_file_path, target_file_path)\n"
   ]
  }
 ],
 "metadata": {
  "kernelspec": {
   "display_name": "Python 3",
   "language": "python",
   "name": "python3"
  },
  "language_info": {
   "codemirror_mode": {
    "name": "ipython",
    "version": 3
   },
   "file_extension": ".py",
   "mimetype": "text/x-python",
   "name": "python",
   "nbconvert_exporter": "python",
   "pygments_lexer": "ipython3",
   "version": "3.8.8"
  }
 },
 "nbformat": 4,
 "nbformat_minor": 5
}
